{
 "cells": [
  {
   "metadata": {},
   "cell_type": "markdown",
   "source": "Creación de clases y objetos",
   "id": "e1c280fc03231720"
  },
  {
   "metadata": {
    "ExecuteTime": {
     "end_time": "2025-06-12T00:03:23.317770Z",
     "start_time": "2025-06-12T00:03:23.300813Z"
    }
   },
   "cell_type": "code",
   "source": [
    "\"\"\"\n",
    "* Para definir una clase hay que seguir el estándar CamelCase\n",
    "\n",
    "Creación de la clase Persona\n",
    "    - Tiene un atributo de clase (aplicable a todos los objetos) -> especie\n",
    "    - Tiene un método saludar() y un método que inicializa cada objeto\n",
    "\"\"\"\n",
    "class Persona:\n",
    "\n",
    "    \"\"\" Acá va la creación del atributo de clase (aplicable a todos los objetos) \"\"\"\n",
    "    especie = \"Humano\"\n",
    "\n",
    "    \"\"\" Un constructor es un método que se ejecuta siempre justo al crear cada objeto\"\"\"\n",
    "    def __init__(self, nombre, edad):\n",
    "        self.n = nombre\n",
    "        self.e = edad\n",
    "\n",
    "    \"\"\" Método (función de la clase) que hace una acción determinada \"\"\"\n",
    "    def saludar(self):\n",
    "        print(F\"Hola, me llamo {self.n} y tengo {self.e} años.\")\n",
    "\n",
    "persona1 = Persona(\"Felipe\", 35)\n",
    "persona2 = Persona(\"Nelson\", 38)\n",
    "\n",
    "print(F\"{persona1.saludar()} - {persona1.especie}\")\n",
    "print(F\"{persona2.saludar()} - {persona2.especie}\")\n"
   ],
   "id": "initial_id",
   "outputs": [
    {
     "name": "stdout",
     "output_type": "stream",
     "text": [
      "Hola, me llamo Felipe y tengo 35 años.\n",
      "None - Humano\n",
      "Hola, me llamo Nelson y tengo 38 años.\n",
      "None - Humano\n"
     ]
    }
   ],
   "execution_count": 3
  },
  {
   "metadata": {
    "ExecuteTime": {
     "end_time": "2025-06-12T00:16:36.033110Z",
     "start_time": "2025-06-12T00:16:36.016046Z"
    }
   },
   "cell_type": "code",
   "source": [
    "class Circulo:\n",
    "    def __init__(self, radio: float):\n",
    "        self.x = radio\n",
    "\n",
    "objeto_circulo = Circulo(5) # __init__(5)\n",
    "print(F\"El radio es = {objeto_circulo.x}\")"
   ],
   "id": "5c8397c20d4e690b",
   "outputs": [
    {
     "name": "stdout",
     "output_type": "stream",
     "text": [
      "El radio es = otro valor\n"
     ]
    }
   ],
   "execution_count": 8
  },
  {
   "metadata": {},
   "cell_type": "markdown",
   "source": "Encapsulación y visibilidad",
   "id": "b5f7f11b970783e3"
  },
  {
   "metadata": {
    "ExecuteTime": {
     "end_time": "2025-06-12T00:35:12.911960Z",
     "start_time": "2025-06-12T00:35:12.894721Z"
    }
   },
   "cell_type": "code",
   "source": [
    "class Cuenta:\n",
    "    def __init__(self, saldo: float):\n",
    "        self.__s = saldo\n",
    "\n",
    "    #Los métodos get() y los set()\n",
    "    def get_saldo(self):\n",
    "        return self.__s\n",
    "\n",
    "    def set_saldo(self, saldo: float):\n",
    "        if saldo >= 0:\n",
    "            self.__s = saldo\n",
    "        else:\n",
    "            print(\"¡Error! El saldo no puede ser negativo\")\n",
    "\n",
    "cuenta_bancaria = Cuenta(0)\n",
    "print(cuenta_bancaria.get_saldo())\n",
    "cuenta_bancaria.set_saldo(500)\n",
    "print(cuenta_bancaria.get_saldo())"
   ],
   "id": "e6c692c0434d16e1",
   "outputs": [
    {
     "name": "stdout",
     "output_type": "stream",
     "text": [
      "0\n",
      "500\n"
     ]
    }
   ],
   "execution_count": 11
  },
  {
   "metadata": {},
   "cell_type": "markdown",
   "source": "USO DE DECORADORES",
   "id": "a654609499e06d32"
  },
  {
   "metadata": {
    "ExecuteTime": {
     "end_time": "2025-06-12T00:42:14.158817Z",
     "start_time": "2025-06-12T00:42:14.136240Z"
    }
   },
   "cell_type": "code",
   "source": [
    "class Producto:\n",
    "\n",
    "    def __init__(self, precio):\n",
    "        self.__precio = precio\n",
    "\n",
    "    @property\n",
    "    def precio(self):\n",
    "        return self.__precio\n",
    "\n",
    "    @precio.setter\n",
    "    def precio(self, valor):\n",
    "        self.__precio = valor\n",
    "\n",
    "p = Producto(100)\n",
    "print(p.precio)\n",
    "p.precio = 200\n",
    "print(p.precio)"
   ],
   "id": "773fe6bc4bbec9c8",
   "outputs": [
    {
     "name": "stdout",
     "output_type": "stream",
     "text": [
      "100\n",
      "200\n"
     ]
    }
   ],
   "execution_count": 12
  },
  {
   "metadata": {},
   "cell_type": "markdown",
   "source": "HERENCIA EN LA PROGRAMACIÓN ORIENTADA A OBJETOS",
   "id": "dd259f0026fe6d59"
  },
  {
   "metadata": {
    "ExecuteTime": {
     "end_time": "2025-06-12T01:40:37.866587Z",
     "start_time": "2025-06-12T01:40:37.842260Z"
    }
   },
   "cell_type": "code",
   "source": [
    "# Herencia Simple\n",
    "\n",
    "class Animal:\n",
    "    def comer(self) -> None:\n",
    "        print(\"El animal come...\")\n",
    "\n",
    "class Perro(Animal):\n",
    "    def ladrar(self) -> None:\n",
    "        print(\"El perro ladra...\")\n",
    "\n",
    "cachupin = Perro()\n",
    "cachupin.comer()\n",
    "cachupin.ladrar()\n",
    "\n",
    "# Herencia Múltiple\n",
    "\n",
    "class Terrestre:\n",
    "    def desplazar(self) -> None:\n",
    "        print(\"El animal se desplaza caminando\")\n",
    "\n",
    "class Acuatico:\n",
    "    def desplazar(self) -> None:\n",
    "        print(\"El animal se desplaza nadando\")\n",
    "\n",
    "class Anfibio(Terrestre, Acuatico):\n",
    "    pass\n",
    "\n",
    "regalon = Anfibio()\n",
    "regalon.desplazar()\n"
   ],
   "id": "5d127e47113a2117",
   "outputs": [
    {
     "name": "stdout",
     "output_type": "stream",
     "text": [
      "El animal come...\n",
      "El perro ladra...\n",
      "El animal se desplaza caminando\n"
     ]
    }
   ],
   "execution_count": 1
  },
  {
   "metadata": {},
   "cell_type": "markdown",
   "source": "POLIMORFISMO",
   "id": "b7698d80d3c921b1"
  },
  {
   "metadata": {
    "ExecuteTime": {
     "end_time": "2025-06-12T02:08:56.325877Z",
     "start_time": "2025-06-12T02:08:56.309936Z"
    }
   },
   "cell_type": "code",
   "source": [
    "class Ave:\n",
    "    def volar(self):\n",
    "        print(\"El ave vuela.\")\n",
    "\n",
    "class Avion:\n",
    "    def volar(self):\n",
    "        print(\"El avion vuela.\")\n",
    "\n",
    "def hacer_volar(objeto):\n",
    "    objeto.volar()\n",
    "\n",
    "#Código para probar las clases y el polimorfismo\n",
    "\n",
    "pajaro = Ave()\n",
    "boeing = Avion()\n",
    "\n",
    "#print(F\"Objeto de la clase Ave = {pajaro.volar()}\")\n",
    "#print(F\"Objeto de la clase Avion = {boeing.volar()}\")\n",
    "\n",
    "hacer_volar(boeing)"
   ],
   "id": "9e91c05b4eba7045",
   "outputs": [
    {
     "name": "stdout",
     "output_type": "stream",
     "text": [
      "El avion vuela.\n"
     ]
    }
   ],
   "execution_count": 4
  }
 ],
 "metadata": {
  "kernelspec": {
   "display_name": "Python [conda env:base] *",
   "language": "python",
   "name": "conda-base-py"
  },
  "language_info": {
   "codemirror_mode": {
    "name": "ipython",
    "version": 2
   },
   "file_extension": ".py",
   "mimetype": "text/x-python",
   "name": "python",
   "nbconvert_exporter": "python",
   "pygments_lexer": "ipython2",
   "version": "2.7.6"
  }
 },
 "nbformat": 4,
 "nbformat_minor": 5
}
